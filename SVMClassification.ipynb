{
 "cells": [
  {
   "cell_type": "code",
   "execution_count": 1,
   "id": "aaad6b32-20bf-43d4-9148-78b1b88b6b92",
   "metadata": {},
   "outputs": [],
   "source": [
    "# Data Source from kaggle \n",
    "\n",
    "#Part 1: SVM Classification   "
   ]
  },
  {
   "cell_type": "code",
   "execution_count": 2,
   "id": "e012c2a5-d204-48fb-8e16-f607fc90668c",
   "metadata": {},
   "outputs": [],
   "source": [
    "# For Graphs\n",
    "import matplotlib.pyplot as plt\n",
    "import seaborn as sns\n",
    "\n",
    "# For data handling\n",
    "import pandas as pd\n",
    "import numpy as np\n",
    "\n",
    "# For data preprocessing\n",
    "from sklearn.preprocessing import MinMaxScaler, LabelEncoder\n",
    "from sklearn.svm import SVC\n",
    "\n",
    "# For model evaluation\n",
    "from sklearn.model_selection import train_test_split\n",
    "from sklearn.metrics import roc_curve,auc,classification_report, precision_score,recall_score,roc_auc_score"
   ]
  },
  {
   "cell_type": "code",
   "execution_count": 3,
   "id": "cb9a8dd5-8b5e-462f-a2f9-b8d006f2e11b",
   "metadata": {},
   "outputs": [],
   "source": [
    "#Part 1: SVM (Kaggle Dataset)"
   ]
  },
  {
   "cell_type": "code",
   "execution_count": 4,
   "id": "06f78849-52d4-4adc-81ae-447be3d280c6",
   "metadata": {},
   "outputs": [],
   "source": [
    "#1 and #2 Get the dataset and load the dataset"
   ]
  },
  {
   "cell_type": "code",
   "execution_count": 5,
   "id": "b3524a91-7577-44d6-9f1a-3f6d30162d9c",
   "metadata": {},
   "outputs": [
    {
     "data": {
      "text/html": [
       "<div>\n",
       "<style scoped>\n",
       "    .dataframe tbody tr th:only-of-type {\n",
       "        vertical-align: middle;\n",
       "    }\n",
       "\n",
       "    .dataframe tbody tr th {\n",
       "        vertical-align: top;\n",
       "    }\n",
       "\n",
       "    .dataframe thead th {\n",
       "        text-align: right;\n",
       "    }\n",
       "</style>\n",
       "<table border=\"1\" class=\"dataframe\">\n",
       "  <thead>\n",
       "    <tr style=\"text-align: right;\">\n",
       "      <th></th>\n",
       "      <th>iris_sepal_length_data</th>\n",
       "      <th>iris_sepal_width_data</th>\n",
       "      <th>iris_petal_length_data</th>\n",
       "      <th>iris_petal_width_data</th>\n",
       "      <th>iris_class_data</th>\n",
       "    </tr>\n",
       "  </thead>\n",
       "  <tbody>\n",
       "    <tr>\n",
       "      <th>145</th>\n",
       "      <td>6.7</td>\n",
       "      <td>3.0</td>\n",
       "      <td>5.2</td>\n",
       "      <td>2.3</td>\n",
       "      <td>Iris-virginica</td>\n",
       "    </tr>\n",
       "    <tr>\n",
       "      <th>146</th>\n",
       "      <td>6.3</td>\n",
       "      <td>2.5</td>\n",
       "      <td>5.0</td>\n",
       "      <td>1.9</td>\n",
       "      <td>Iris-virginica</td>\n",
       "    </tr>\n",
       "    <tr>\n",
       "      <th>147</th>\n",
       "      <td>6.5</td>\n",
       "      <td>3.0</td>\n",
       "      <td>5.2</td>\n",
       "      <td>2.0</td>\n",
       "      <td>Iris-virginica</td>\n",
       "    </tr>\n",
       "    <tr>\n",
       "      <th>148</th>\n",
       "      <td>6.2</td>\n",
       "      <td>3.4</td>\n",
       "      <td>5.4</td>\n",
       "      <td>2.3</td>\n",
       "      <td>Iris-virginica</td>\n",
       "    </tr>\n",
       "    <tr>\n",
       "      <th>149</th>\n",
       "      <td>5.9</td>\n",
       "      <td>3.0</td>\n",
       "      <td>5.1</td>\n",
       "      <td>1.8</td>\n",
       "      <td>Iris-virginica</td>\n",
       "    </tr>\n",
       "  </tbody>\n",
       "</table>\n",
       "</div>"
      ],
      "text/plain": [
       "     iris_sepal_length_data  iris_sepal_width_data  iris_petal_length_data  \\\n",
       "145                     6.7                    3.0                     5.2   \n",
       "146                     6.3                    2.5                     5.0   \n",
       "147                     6.5                    3.0                     5.2   \n",
       "148                     6.2                    3.4                     5.4   \n",
       "149                     5.9                    3.0                     5.1   \n",
       "\n",
       "     iris_petal_width_data iris_class_data  \n",
       "145                    2.3  Iris-virginica  \n",
       "146                    1.9  Iris-virginica  \n",
       "147                    2.0  Iris-virginica  \n",
       "148                    2.3  Iris-virginica  \n",
       "149                    1.8  Iris-virginica  "
      ]
     },
     "execution_count": 5,
     "metadata": {},
     "output_type": "execute_result"
    }
   ],
   "source": [
    "headers=[\"iris_sepal_length_data\", \"iris_sepal_width_data\",\"iris_petal_length_data\",\"iris_petal_width_data\",\"iris_class_data\"]\n",
    "irisData = pd.read_csv('iris/iris.data', names=headers)\n",
    "irisData.tail()"
   ]
  },
  {
   "cell_type": "code",
   "execution_count": 6,
   "id": "50e481d8-604a-43a1-ad17-1f0f8b87260e",
   "metadata": {},
   "outputs": [
    {
     "name": "stdout",
     "output_type": "stream",
     "text": [
      "KAGGLE IRIS DATASET INFO\n",
      "<class 'pandas.core.frame.DataFrame'>\n",
      "RangeIndex: 150 entries, 0 to 149\n",
      "Data columns (total 5 columns):\n",
      " #   Column                  Non-Null Count  Dtype  \n",
      "---  ------                  --------------  -----  \n",
      " 0   iris_sepal_length_data  150 non-null    float64\n",
      " 1   iris_sepal_width_data   150 non-null    float64\n",
      " 2   iris_petal_length_data  150 non-null    float64\n",
      " 3   iris_petal_width_data   150 non-null    float64\n",
      " 4   iris_class_data         150 non-null    object \n",
      "dtypes: float64(4), object(1)\n",
      "memory usage: 6.0+ KB\n",
      "None\n"
     ]
    }
   ],
   "source": [
    "#3 Describe the data\n",
    "print(\"KAGGLE IRIS DATASET INFO\")\n",
    "print(irisData.info())"
   ]
  },
  {
   "cell_type": "code",
   "execution_count": 7,
   "id": "c3544448",
   "metadata": {},
   "outputs": [
    {
     "name": "stdout",
     "output_type": "stream",
     "text": [
      "KAGGLE IRIS DATASET DESCRIPTION\n",
      "                        count      mean       std  min  25%   50%  75%  max\n",
      "iris_sepal_length_data  150.0  5.843333  0.828066  4.3  5.1  5.80  6.4  7.9\n",
      "iris_sepal_width_data   150.0  3.054000  0.433594  2.0  2.8  3.00  3.3  4.4\n",
      "iris_petal_length_data  150.0  3.758667  1.764420  1.0  1.6  4.35  5.1  6.9\n",
      "iris_petal_width_data   150.0  1.198667  0.763161  0.1  0.3  1.30  1.8  2.5\n"
     ]
    }
   ],
   "source": [
    "print(\"KAGGLE IRIS DATASET DESCRIPTION\")\n",
    "print(irisData.describe().transpose()) "
   ]
  },
  {
   "cell_type": "code",
   "execution_count": 8,
   "id": "3538de1e-c506-419b-bdf4-c5584f1e09e6",
   "metadata": {},
   "outputs": [
    {
     "name": "stdout",
     "output_type": "stream",
     "text": [
      "0      0\n",
      "1      0\n",
      "2      0\n",
      "3      0\n",
      "4      0\n",
      "      ..\n",
      "145    2\n",
      "146    2\n",
      "147    2\n",
      "148    2\n",
      "149    2\n",
      "Name: iris_class_data, Length: 150, dtype: int64\n"
     ]
    },
    {
     "data": {
      "text/html": [
       "<div>\n",
       "<style scoped>\n",
       "    .dataframe tbody tr th:only-of-type {\n",
       "        vertical-align: middle;\n",
       "    }\n",
       "\n",
       "    .dataframe tbody tr th {\n",
       "        vertical-align: top;\n",
       "    }\n",
       "\n",
       "    .dataframe thead th {\n",
       "        text-align: right;\n",
       "    }\n",
       "</style>\n",
       "<table border=\"1\" class=\"dataframe\">\n",
       "  <thead>\n",
       "    <tr style=\"text-align: right;\">\n",
       "      <th></th>\n",
       "      <th>iris_sepal_length_data</th>\n",
       "      <th>iris_sepal_width_data</th>\n",
       "      <th>iris_petal_length_data</th>\n",
       "      <th>iris_petal_width_data</th>\n",
       "      <th>iris_class_data</th>\n",
       "    </tr>\n",
       "  </thead>\n",
       "  <tbody>\n",
       "    <tr>\n",
       "      <th>145</th>\n",
       "      <td>6.7</td>\n",
       "      <td>3.0</td>\n",
       "      <td>5.2</td>\n",
       "      <td>2.3</td>\n",
       "      <td>2</td>\n",
       "    </tr>\n",
       "    <tr>\n",
       "      <th>146</th>\n",
       "      <td>6.3</td>\n",
       "      <td>2.5</td>\n",
       "      <td>5.0</td>\n",
       "      <td>1.9</td>\n",
       "      <td>2</td>\n",
       "    </tr>\n",
       "    <tr>\n",
       "      <th>147</th>\n",
       "      <td>6.5</td>\n",
       "      <td>3.0</td>\n",
       "      <td>5.2</td>\n",
       "      <td>2.0</td>\n",
       "      <td>2</td>\n",
       "    </tr>\n",
       "    <tr>\n",
       "      <th>148</th>\n",
       "      <td>6.2</td>\n",
       "      <td>3.4</td>\n",
       "      <td>5.4</td>\n",
       "      <td>2.3</td>\n",
       "      <td>2</td>\n",
       "    </tr>\n",
       "    <tr>\n",
       "      <th>149</th>\n",
       "      <td>5.9</td>\n",
       "      <td>3.0</td>\n",
       "      <td>5.1</td>\n",
       "      <td>1.8</td>\n",
       "      <td>2</td>\n",
       "    </tr>\n",
       "  </tbody>\n",
       "</table>\n",
       "</div>"
      ],
      "text/plain": [
       "     iris_sepal_length_data  iris_sepal_width_data  iris_petal_length_data  \\\n",
       "145                     6.7                    3.0                     5.2   \n",
       "146                     6.3                    2.5                     5.0   \n",
       "147                     6.5                    3.0                     5.2   \n",
       "148                     6.2                    3.4                     5.4   \n",
       "149                     5.9                    3.0                     5.1   \n",
       "\n",
       "     iris_petal_width_data  iris_class_data  \n",
       "145                    2.3                2  \n",
       "146                    1.9                2  \n",
       "147                    2.0                2  \n",
       "148                    2.3                2  \n",
       "149                    1.8                2  "
      ]
     },
     "execution_count": 8,
     "metadata": {},
     "output_type": "execute_result"
    }
   ],
   "source": [
    "#4 Preprocess data if needed. Encodding\n",
    "l_e =LabelEncoder()\n",
    "irisData[\"iris_class_data\"] = l_e.fit_transform(irisData[\"iris_class_data\"])\n",
    "print(irisData[\"iris_class_data\"])\n",
    "irisData.tail()"
   ]
  },
  {
   "cell_type": "code",
   "execution_count": 9,
   "id": "5e206be5-c1c2-40dd-b15e-319613152acd",
   "metadata": {},
   "outputs": [
    {
     "name": "stdout",
     "output_type": "stream",
     "text": [
      "0      0\n",
      "1      0\n",
      "2      0\n",
      "3      0\n",
      "4      0\n",
      "      ..\n",
      "145    2\n",
      "146    2\n",
      "147    2\n",
      "148    2\n",
      "149    2\n",
      "Name: iris_class_data, Length: 150, dtype: int64\n"
     ]
    },
    {
     "data": {
      "text/html": [
       "<div>\n",
       "<style scoped>\n",
       "    .dataframe tbody tr th:only-of-type {\n",
       "        vertical-align: middle;\n",
       "    }\n",
       "\n",
       "    .dataframe tbody tr th {\n",
       "        vertical-align: top;\n",
       "    }\n",
       "\n",
       "    .dataframe thead th {\n",
       "        text-align: right;\n",
       "    }\n",
       "</style>\n",
       "<table border=\"1\" class=\"dataframe\">\n",
       "  <thead>\n",
       "    <tr style=\"text-align: right;\">\n",
       "      <th></th>\n",
       "      <th>iris_sepal_length_data</th>\n",
       "      <th>iris_sepal_width_data</th>\n",
       "      <th>iris_petal_length_data</th>\n",
       "      <th>iris_petal_width_data</th>\n",
       "    </tr>\n",
       "  </thead>\n",
       "  <tbody>\n",
       "    <tr>\n",
       "      <th>145</th>\n",
       "      <td>0.666667</td>\n",
       "      <td>0.416667</td>\n",
       "      <td>0.711864</td>\n",
       "      <td>0.916667</td>\n",
       "    </tr>\n",
       "    <tr>\n",
       "      <th>146</th>\n",
       "      <td>0.555556</td>\n",
       "      <td>0.208333</td>\n",
       "      <td>0.677966</td>\n",
       "      <td>0.750000</td>\n",
       "    </tr>\n",
       "    <tr>\n",
       "      <th>147</th>\n",
       "      <td>0.611111</td>\n",
       "      <td>0.416667</td>\n",
       "      <td>0.711864</td>\n",
       "      <td>0.791667</td>\n",
       "    </tr>\n",
       "    <tr>\n",
       "      <th>148</th>\n",
       "      <td>0.527778</td>\n",
       "      <td>0.583333</td>\n",
       "      <td>0.745763</td>\n",
       "      <td>0.916667</td>\n",
       "    </tr>\n",
       "    <tr>\n",
       "      <th>149</th>\n",
       "      <td>0.444444</td>\n",
       "      <td>0.416667</td>\n",
       "      <td>0.694915</td>\n",
       "      <td>0.708333</td>\n",
       "    </tr>\n",
       "  </tbody>\n",
       "</table>\n",
       "</div>"
      ],
      "text/plain": [
       "     iris_sepal_length_data  iris_sepal_width_data  iris_petal_length_data  \\\n",
       "145                0.666667               0.416667                0.711864   \n",
       "146                0.555556               0.208333                0.677966   \n",
       "147                0.611111               0.416667                0.711864   \n",
       "148                0.527778               0.583333                0.745763   \n",
       "149                0.444444               0.416667                0.694915   \n",
       "\n",
       "     iris_petal_width_data  \n",
       "145               0.916667  \n",
       "146               0.750000  \n",
       "147               0.791667  \n",
       "148               0.916667  \n",
       "149               0.708333  "
      ]
     },
     "execution_count": 9,
     "metadata": {},
     "output_type": "execute_result"
    }
   ],
   "source": [
    "# Normalize Dataset\n",
    "features=irisData.drop(columns=[\"iris_class_data\"])\n",
    "target=irisData[\"iris_class_data\"]\n",
    "print(target)\n",
    "m_m_s=MinMaxScaler()\n",
    "features_normalize=pd.DataFrame(m_m_s.fit_transform(features), columns=features.columns)\n",
    "features_normalize.tail()"
   ]
  },
  {
   "cell_type": "code",
   "execution_count": 10,
   "id": "8594fc4f-c2d8-42b4-b4f9-46fa76851a41",
   "metadata": {},
   "outputs": [
    {
     "name": "stdout",
     "output_type": "stream",
     "text": [
      "                        count      mean       std  min       25%       50%  \\\n",
      "iris_sepal_length_data  120.0  0.419213  0.228835  0.0  0.222222  0.402778   \n",
      "iris_sepal_width_data   120.0  0.440625  0.185999  0.0  0.333333  0.416667   \n",
      "iris_petal_length_data  120.0  0.462288  0.296822  0.0  0.084746  0.550847   \n",
      "iris_petal_width_data   120.0  0.451042  0.313934  0.0  0.083333  0.500000   \n",
      "\n",
      "                             75%       max  \n",
      "iris_sepal_length_data  0.583333  0.944444  \n",
      "iris_sepal_width_data   0.552083  1.000000  \n",
      "iris_petal_length_data  0.694915  0.966102  \n",
      "iris_petal_width_data   0.708333  1.000000  \n",
      "-.-.-.-.-.-.-.-.-.-.-.-.-.-.-.-.-.-.-.-.-.-.-.-.-.-.-.-.-.-.-.-.-.-.-.-.-.-.-.-.\n",
      "                        count      mean       std       min       25%  \\\n",
      "iris_sepal_length_data   30.0  0.466667  0.234729  0.111111  0.312500   \n",
      "iris_sepal_width_data    30.0  0.433333  0.160295  0.083333  0.333333   \n",
      "iris_petal_length_data   30.0  0.488701  0.312086  0.050847  0.101695   \n",
      "iris_petal_width_data    30.0  0.484722  0.337879  0.000000  0.093750   \n",
      "\n",
      "                             50%       75%       max  \n",
      "iris_sepal_length_data  0.486111  0.611111  1.000000  \n",
      "iris_sepal_width_data   0.416667  0.500000  0.750000  \n",
      "iris_petal_length_data  0.593220  0.707627  1.000000  \n",
      "iris_petal_width_data   0.520833  0.791667  0.916667  \n"
     ]
    }
   ],
   "source": [
    "#Split the dataset\n",
    "iris_features_data_train, iris_features_data_test, iris_target_data_train, iris_target_data_test=train_test_split(features_normalize,target,test_size=0.2,random_state=42)\n",
    "print(iris_features_data_train.describe().transpose())\n",
    "print(\"-.\"*40)\n",
    "print(iris_features_data_test.describe().transpose())"
   ]
  },
  {
   "cell_type": "code",
   "execution_count": 11,
   "id": "325fdfb1-9834-496a-95cf-bd5d17626e9d",
   "metadata": {},
   "outputs": [],
   "source": [
    "# print(iris_target_data_train.describe())\n",
    "# print(iris_target_data_test.describe())\n",
    "# Target Description"
   ]
  },
  {
   "cell_type": "code",
   "execution_count": 12,
   "id": "c5e5779a",
   "metadata": {},
   "outputs": [],
   "source": [
    "def roc_curve_graph (model, k):\n",
    "    iris_target_data_prob=model.predict_proba(iris_features_data_test)\n",
    "\n",
    "    # ROC Curve Graphs\n",
    "    svm_iris_fpr,svm_iris_tpr,svm_thresholds=roc_curve(iris_target_data_test,iris_target_data_prob[:,1],pos_label=1)\n",
    "    svm_iris_roc_auc=auc(svm_iris_fpr,svm_iris_tpr)\n",
    "    \n",
    "    #Plotting\n",
    "    plt.plot(svm_iris_fpr,svm_iris_tpr,label=k+\" (AUC = \"+str(svm_iris_roc_auc)+\")\")"
   ]
  },
  {
   "cell_type": "code",
   "execution_count": 13,
   "id": "c91e8dd7",
   "metadata": {},
   "outputs": [],
   "source": [
    "def classification_report_data(model, k):\n",
    "    print(\"-.\"*30)\n",
    "    print(\"Classification (SVM/SVC) Report for IRIS dataset: \"+k)\n",
    "    iris_target_data_pred=model.predict(iris_features_data_test)\n",
    "    c_report = classification_report(iris_target_data_test,iris_target_data_pred, output_dict=True)\n",
    "    \n",
    "    iris_target_data_prob=model.predict_proba(iris_features_data_test)\n",
    "    svm_roc_auc=roc_auc_score(iris_target_data_test,iris_target_data_prob,multi_class=\"ovo\")\n",
    "    \n",
    "    print(f\"Accuracy: {c_report['accuracy']:.2f}\")\n",
    "    print(f\"Precision: {c_report['weighted avg']['precision']:.2f}\")\n",
    "    print(f\"Recall: {c_report['weighted avg']['recall']:.2f}\")   \n",
    "    print(f\"F1 Score: {c_report['weighted avg']['f1-score']:.2f}\")\n",
    "    print(f\"ROC AUC: {svm_roc_auc:.2f}\")"
   ]
  },
  {
   "cell_type": "code",
   "execution_count": 14,
   "id": "3cb83898-46fc-454d-befe-476fcfc1bfb3",
   "metadata": {},
   "outputs": [
    {
     "name": "stdout",
     "output_type": "stream",
     "text": [
      "-.-.-.-.-.-.-.-.-.-.-.-.-.-.-.-.-.-.-.-.-.-.-.-.-.-.-.-.-.-.\n",
      "Classification (SVM/SVC) Report for IRIS dataset: linear\n",
      "Accuracy: 1.00\n",
      "Precision: 1.00\n",
      "Recall: 1.00\n",
      "F1 Score: 1.00\n",
      "ROC AUC: 1.00\n",
      "-.-.-.-.-.-.-.-.-.-.-.-.-.-.-.-.-.-.-.-.-.-.-.-.-.-.-.-.-.-.\n",
      "Classification (SVM/SVC) Report for IRIS dataset: poly\n",
      "Accuracy: 0.93\n",
      "Precision: 0.93\n",
      "Recall: 0.93\n",
      "F1 Score: 0.93\n",
      "ROC AUC: 0.99\n",
      "-.-.-.-.-.-.-.-.-.-.-.-.-.-.-.-.-.-.-.-.-.-.-.-.-.-.-.-.-.-.\n",
      "Classification (SVM/SVC) Report for IRIS dataset: sigmoid\n",
      "Accuracy: 0.37\n",
      "Precision: 0.30\n",
      "Recall: 0.37\n",
      "F1 Score: 0.33\n",
      "ROC AUC: 0.71\n",
      "-.-.-.-.-.-.-.-.-.-.-.-.-.-.-.-.-.-.-.-.-.-.-.-.-.-.-.-.-.-.\n",
      "Classification (SVM/SVC) Report for IRIS dataset: rbf\n",
      "Accuracy: 1.00\n",
      "Precision: 1.00\n",
      "Recall: 1.00\n",
      "F1 Score: 1.00\n",
      "ROC AUC: 1.00\n"
     ]
    },
    {
     "data": {
      "image/png": "[encoded data removed]",
      "text/plain": [
       "<Figure size 640x480 with 1 Axes>"
      ]
     },
     "metadata": {},
     "output_type": "display_data"
    }
   ],
   "source": [
    "#5 Conduct SVM Classification. \n",
    "#6 Experiment with different kernel functions in SVC to see which one performs best for your data. \n",
    "\n",
    "svm_kernels=[\"linear\",\"poly\",\"sigmoid\",\"rbf\"]\n",
    "for k in svm_kernels:\n",
    "    iris_svc_model=SVC(kernel=k,probability=True)\n",
    "    iris_svc_model.fit(iris_features_data_train,iris_target_data_train)\n",
    "\n",
    "    iris_target_data_pred=iris_svc_model.predict(iris_features_data_test)\n",
    "    \n",
    "    #7 Generate classification report for iris dataset and percision\n",
    "    classification_report_data(iris_svc_model,k)\n",
    "\n",
    "    #8 ROC Curve\n",
    "    roc_curve_graph(iris_svc_model,k)\n",
    "\n",
    "plt.xlabel(\"FALSE POSITIVE RATE FOR IRIS DATASET (SVM)\")\n",
    "plt.ylabel(\"TRUE POSITIVE RATE FOR IRIS DATASET (SVM)\")\n",
    "plt.title(\"ROC Curve Graph\")\n",
    "plt.plot([0,1],[0,1], linestyle=\"dashdot\",color=\"blue\")\n",
    "plt.legend()\n",
    "plt.show()\n"
   ]
  }
 ],
 "metadata": {
  "kernelspec": {
   "display_name": "Python [conda env:base] *",
   "language": "python",
   "name": "conda-base-py"
  },
  "language_info": {
   "codemirror_mode": {
    "name": "ipython",
    "version": 3
   },
   "file_extension": ".py",
   "mimetype": "text/x-python",
   "name": "python",
   "nbconvert_exporter": "python",
   "pygments_lexer": "ipython3",
   "version": "3.12.7"
  }
 },
 "nbformat": 4,
 "nbformat_minor": 5
}
